{
 "cells": [
  {
   "cell_type": "code",
   "execution_count": 4,
   "metadata": {},
   "outputs": [],
   "source": [
    "\n",
    "import sys\n",
    "sys.path.append('..')\n",
    "from src.models.gcmol import GCMol\n"
   ]
  },
  {
   "cell_type": "code",
   "execution_count": 5,
   "metadata": {},
   "outputs": [
    {
     "name": "stdout",
     "output_type": "stream",
     "text": [
      "Embeddings shape: torch.Size([2, 2048])\n",
      "First embedding (first 10 dims): tensor([ 0.0096,  0.0546, -0.0074,  0.0694,  0.0496,  0.1529, -0.1148,  0.0920,\n",
      "         0.0706,  0.1109])\n"
     ]
    }
   ],
   "source": [
    "model = GCMol(model_name=\"../models/gcmol\")\n",
    "\n",
    "smiles_list = [\"CCO\", \"c1ccc(cc1)C(=O)Nc1ccc(cc1)N\"]\n",
    "embeddings = model.mol_encode(smiles_list)\n",
    "\n",
    "print(\"Embeddings shape:\", embeddings.shape)\n",
    "print(\"First embedding (first 10 dims):\", embeddings[0, :10])"
   ]
  },
  {
   "cell_type": "code",
   "execution_count": null,
   "metadata": {},
   "outputs": [],
   "source": []
  }
 ],
 "metadata": {
  "kernelspec": {
   "display_name": "cell-diffusion-env",
   "language": "python",
   "name": "python3"
  },
  "language_info": {
   "codemirror_mode": {
    "name": "ipython",
    "version": 3
   },
   "file_extension": ".py",
   "mimetype": "text/x-python",
   "name": "python",
   "nbconvert_exporter": "python",
   "pygments_lexer": "ipython3",
   "version": "3.10.16"
  }
 },
 "nbformat": 4,
 "nbformat_minor": 2
}
