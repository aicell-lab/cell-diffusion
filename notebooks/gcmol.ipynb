{
 "cells": [
  {
   "cell_type": "code",
   "execution_count": 1,
   "metadata": {},
   "outputs": [
    {
     "name": "stderr",
     "output_type": "stream",
     "text": [
      "/Users/lapuerta/miniconda3/envs/cell-diffusion-env/lib/python3.10/site-packages/tqdm/auto.py:21: TqdmWarning: IProgress not found. Please update jupyter and ipywidgets. See https://ipywidgets.readthedocs.io/en/stable/user_install.html\n",
      "  from .autonotebook import tqdm as notebook_tqdm\n"
     ]
    }
   ],
   "source": [
    "\n",
    "import sys\n",
    "\n",
    "sys.path.append('..')\n",
    "from src.models.gcmol import GCMol\n"
   ]
  },
  {
   "cell_type": "code",
   "execution_count": 2,
   "metadata": {},
   "outputs": [
    {
     "name": "stdout",
     "output_type": "stream",
     "text": [
      "Embeddings shape: torch.Size([2, 2048])\n",
      "First embedding (first 10 dims): tensor([ 0.0096,  0.0546, -0.0074,  0.0694,  0.0496,  0.1529, -0.1148,  0.0920,\n",
      "         0.0706,  0.1109])\n"
     ]
    }
   ],
   "source": [
    "model = GCMol(model_name=\"../models/gcmol\")\n",
    "\n",
    "smiles_list = [\"CCO\", \"c1ccc(cc1)C(=O)Nc1ccc(cc1)N\"]\n",
    "embeddings = model.mol_encode(smiles_list)\n",
    "\n",
    "print(\"Embeddings shape:\", embeddings.shape)\n",
    "print(\"First embedding (first 10 dims):\", embeddings[0, :10])"
   ]
  },
  {
   "cell_type": "code",
   "execution_count": 3,
   "metadata": {},
   "outputs": [
    {
     "data": {
      "text/plain": [
       "tensor([ 7.2192e-02,  2.1949e-01, -2.7315e-02, -5.8748e-02,  3.5200e-02,\n",
       "         1.6102e-01, -2.3860e-02,  1.2561e-01,  8.7924e-05,  8.1163e-02])"
      ]
     },
     "execution_count": 3,
     "metadata": {},
     "output_type": "execute_result"
    }
   ],
   "source": [
    "embeddings[1, :10]"
   ]
  }
 ],
 "metadata": {
  "kernelspec": {
   "display_name": "cell-diffusion-env",
   "language": "python",
   "name": "python3"
  },
  "language_info": {
   "codemirror_mode": {
    "name": "ipython",
    "version": 3
   },
   "file_extension": ".py",
   "mimetype": "text/x-python",
   "name": "python",
   "nbconvert_exporter": "python",
   "pygments_lexer": "ipython3",
   "version": "3.10.16"
  }
 },
 "nbformat": 4,
 "nbformat_minor": 2
}
